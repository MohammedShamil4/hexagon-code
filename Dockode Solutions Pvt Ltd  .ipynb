{
 "cells": [
  {
   "cell_type": "code",
   "execution_count": 37,
   "id": "c906dbd1",
   "metadata": {},
   "outputs": [
    {
     "name": "stdout",
     "output_type": "stream",
     "text": [
      " enter number of column : 5\n",
      " enter number of rows : 3\n",
      "/  \\__/  \\__/  \\__/  \\__/  \\__\n",
      "\\__/  \\__/  \\__/  \\__/  \\__/  \n",
      "/  \\__/  \\__/  \\__/  \\__/  \\__\n",
      "\\__/  \\__/  \\__/  \\__/  \\__/  \n",
      "/  \\__/  \\__/  \\__/  \\__/  \\__\n",
      "\\__/  \\__/  \\__/  \\__/  \\__/  \n"
     ]
    }
   ],
   "source": [
    "r = int(input(\" enter number of column : \"))\n",
    "c = int(input(\" enter number of rows : \"))\n",
    "count= 0\n",
    "while count < c :\n",
    "    for i in range(r):\n",
    "        print(\"/  \\\\__\" , end=\"\")\n",
    "    print()\n",
    "    for i in range(r):\n",
    "        print(\"\\__/  \" , end=\"\")\n",
    "    print()\n",
    "    count +=1\n",
    "\n",
    "    "
   ]
  },
  {
   "cell_type": "code",
   "execution_count": null,
   "id": "90e23d32",
   "metadata": {},
   "outputs": [],
   "source": []
  }
 ],
 "metadata": {
  "kernelspec": {
   "display_name": "Python 3",
   "language": "python",
   "name": "python3"
  },
  "language_info": {
   "codemirror_mode": {
    "name": "ipython",
    "version": 3
   },
   "file_extension": ".py",
   "mimetype": "text/x-python",
   "name": "python",
   "nbconvert_exporter": "python",
   "pygments_lexer": "ipython3",
   "version": "3.8.8"
  }
 },
 "nbformat": 4,
 "nbformat_minor": 5
}
